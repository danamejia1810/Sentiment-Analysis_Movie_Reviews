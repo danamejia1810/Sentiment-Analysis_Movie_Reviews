{
 "cells": [
  {
   "cell_type": "markdown",
   "id": "09d2db02-958c-43ac-8250-d131d96670e7",
   "metadata": {},
   "source": [
    "## Training a model using logistic regression: TextBlob"
   ]
  },
  {
   "cell_type": "code",
   "execution_count": 45,
   "id": "7e627b17-9f5b-4335-9933-2678dba6d5d8",
   "metadata": {},
   "outputs": [],
   "source": [
    "# Import the libraries\n",
    "import pandas as pd\n",
    "import numpy as np\n",
    "import seaborn as sns\n",
    "import time\n",
    "from datetime import date\n",
    "import matplotlib.pyplot as plt\n",
    "\n",
    "# Reading\n",
    "Avengers_reviews = pd.read_csv(\"combined_datasets_sentiment.csv\")"
   ]
  },
  {
   "cell_type": "code",
   "execution_count": 46,
   "id": "1074e335-90ac-4f95-b27f-cf2c493d532f",
   "metadata": {},
   "outputs": [
    {
     "name": "stdout",
     "output_type": "stream",
     "text": [
      "X_train shape: (4464,)\n",
      "X_test shape: (1116,)\n",
      "y_train_TB shape: (4464,)\n",
      "y_test_TB shape: (1116,)\n"
     ]
    }
   ],
   "source": [
    "# lets train a model\n",
    "from sklearn.model_selection import train_test_split\n",
    "\n",
    "# Use 'textblob_sentiment' as the target variable for training and testing\n",
    "X = Avengers_reviews['content_cleaned']\n",
    "y = Avengers_reviews['sentiment_class_TB']\n",
    "\n",
    "# Split the data\n",
    "X_train, X_test, y_train_TB, y_test_TB = train_test_split(X, y, test_size=0.2, random_state=42)\n",
    "\n",
    "print(\"X_train shape:\", X_train.shape)\n",
    "print(\"X_test shape:\", X_test.shape)\n",
    "print(\"y_train_TB shape:\", y_train_TB.shape)\n",
    "print(\"y_test_TB shape:\", y_test_TB.shape)"
   ]
  },
  {
   "cell_type": "code",
   "execution_count": 47,
   "id": "b141905e-2bd1-4ecc-bb88-49b110246c16",
   "metadata": {},
   "outputs": [
    {
     "name": "stdout",
     "output_type": "stream",
     "text": [
      "              precision    recall  f1-score   support\n",
      "\n",
      "    negative       1.00      0.50      0.67       163\n",
      "     neutral       0.88      0.67      0.76       136\n",
      "    positive       0.87      0.99      0.93       817\n",
      "\n",
      "    accuracy                           0.88      1116\n",
      "   macro avg       0.92      0.72      0.79      1116\n",
      "weighted avg       0.89      0.88      0.87      1116\n",
      "\n"
     ]
    }
   ],
   "source": [
    "from sklearn.feature_extraction.text import TfidfVectorizer\n",
    "from sklearn.linear_model import LogisticRegression\n",
    "from sklearn.metrics import accuracy_score, classification_report\n",
    "\n",
    "# Vectorization\n",
    "vectorizer = TfidfVectorizer(stop_words='english', max_features=5000)\n",
    "X_train_tfidf = vectorizer.fit_transform(X_train)\n",
    "X_test_tfidf = vectorizer.transform(X_test)\n",
    "\n",
    "# Train the model\n",
    "model = LogisticRegression(max_iter=1000)\n",
    "model.fit(X_train_tfidf, y_train_TB)\n",
    "# Predict on the test set\n",
    "y_pred_TB = model.predict(X_test_tfidf)\n",
    "\n",
    "# Evaluate the model\n",
    "accuracy_TB = accuracy_score(y_test_TB, y_pred_TB)\n",
    "\n",
    "# Detailed classification report\n",
    "print(classification_report(y_test_TB, y_pred_TB))"
   ]
  },
  {
   "cell_type": "markdown",
   "id": "065cc7e4-cee2-4d95-8fc6-1aa5040cb005",
   "metadata": {},
   "source": [
    "The model performs exceptionally well in predicting positive sentiment, with high precision and recall.\n",
    "The model's precision is excellent for negative sentiment, but recall is relatively low, indicating that the model misses many actual negative reviews.\n",
    "The performance for neutral sentiment is moderate, with balanced precision and recall, but there is room for improvement."
   ]
  },
  {
   "cell_type": "code",
   "execution_count": 49,
   "id": "6a2b07de-3582-4553-acce-1928f8900fca",
   "metadata": {},
   "outputs": [
    {
     "name": "stdout",
     "output_type": "stream",
     "text": [
      "The predicted sentiment for the new review is: negative\n"
     ]
    },
    {
     "name": "stderr",
     "output_type": "stream",
     "text": [
      "[nltk_data] Downloading package stopwords to\n",
      "[nltk_data]     C:\\Users\\dayan\\AppData\\Roaming\\nltk_data...\n",
      "[nltk_data]   Package stopwords is already up-to-date!\n",
      "[nltk_data] Downloading package punkt to\n",
      "[nltk_data]     C:\\Users\\dayan\\AppData\\Roaming\\nltk_data...\n",
      "[nltk_data]   Package punkt is already up-to-date!\n",
      "[nltk_data] Downloading package wordnet to\n",
      "[nltk_data]     C:\\Users\\dayan\\AppData\\Roaming\\nltk_data...\n",
      "[nltk_data]   Package wordnet is already up-to-date!\n"
     ]
    }
   ],
   "source": [
    "import re\n",
    "# Import libraries for additional cleaning\n",
    "from nltk.corpus import stopwords\n",
    "import nltk\n",
    "from nltk.tokenize import word_tokenize\n",
    "from nltk.stem import WordNetLemmatizer\n",
    "import re\n",
    "\n",
    "# Import NLTK resources\n",
    "nltk.download('stopwords')\n",
    "nltk.download('punkt')\n",
    "nltk.download('wordnet')\n",
    "\n",
    "# lets check our model:\n",
    "def clean(text, remove_digits=True):\n",
    "    # 1. Eliminar URLs\n",
    "    text = re.sub(r'http\\S+|www\\S+|https\\S+', '', text, flags=re.MULTILINE)\n",
    "    # 2. Reemplazar 'RT ' y '&amp;'\n",
    "    text = text.replace('RT ', ' ').replace('&amp;', 'and')\n",
    "    # 3. Eliminar caracteres especiales, excepto alfanuméricos\n",
    "    if remove_digits:\n",
    "        pattern = r'[^a-zA-Z\\s]'\n",
    "    else:\n",
    "        pattern = r'[^a-zA-Z0-9\\s]'\n",
    "    text = re.sub(pattern, '', text)\n",
    "    # 4. Convertir a minúsculas\n",
    "    text = text.lower()\n",
    "    # 5. Eliminar menciones de Twitter, hashtags y emojis\n",
    "    text = re.sub(r'\\@\\w+|\\#', '', text)\n",
    "    text = re.sub(r'[^\\w\\s]', '', text)\n",
    "    text = re.sub(r'[^\\x00-\\x7F]+', '', text)\n",
    "    # 6. Eliminar números\n",
    "    if remove_digits:\n",
    "        text = re.sub(r'\\d+', '', text)\n",
    "    return text\n",
    "\n",
    "# Removing commonly used words in english.\n",
    "common_words = stopwords.words('english')\n",
    "\n",
    "def add_cleaning(text):\n",
    "    if not isinstance(text, str):\n",
    "        return text\n",
    "    # 5. Token\n",
    "    text_tokens = word_tokenize(text.replace('’', \"\").lower())\n",
    "    # 6. Delete punctuation\n",
    "    tokens_without_p = [w for w in text_tokens if w.isalpha()]\n",
    "    # 7. Delete stopwords\n",
    "    tokens_without_stopwords = [t for t in tokens_without_p if t not in common_words]\n",
    "    # 8. Lemmatization\n",
    "    text_clean = [WordNetLemmatizer().lemmatize(t) for t in tokens_without_stopwords]\n",
    "    # Joining tokens in one string\n",
    "    return \" \".join(text_clean)\n",
    "    \n",
    "# Example new review\n",
    "new_review = \"This movie was bad! I hated every part of it.\"\n",
    "\n",
    "# Preprocess the new review\n",
    "cleaned_review = clean(new_review)\n",
    "cleaned_review = add_cleaning(new_review)\n",
    "\n",
    "# Vectorize the preprocessed review using the fitted vectorizer\n",
    "new_review_tfidf = vectorizer.transform([cleaned_review])\n",
    "\n",
    "# Predict the sentiment using the trained model\n",
    "predicted_sentiment = model.predict(new_review_tfidf)\n",
    "\n",
    "# Output the predicted sentiment\n",
    "print(f\"The predicted sentiment for the new review is: {predicted_sentiment[0]}\")\n"
   ]
  },
  {
   "cell_type": "markdown",
   "id": "73543efe-8a87-4b96-bfb7-a8d4c5239ba1",
   "metadata": {},
   "source": [
    "# Training the Vader model with logistic regression"
   ]
  },
  {
   "cell_type": "code",
   "execution_count": 51,
   "id": "516d9e1d-853b-425e-9f04-63a47fb805d8",
   "metadata": {},
   "outputs": [
    {
     "name": "stdout",
     "output_type": "stream",
     "text": [
      "X_train shape: (4464,)\n",
      "X_test shape: (1116,)\n",
      "y_train_vader shape: (4464,)\n",
      "y_test_vader shape: (1116,)\n",
      "              precision    recall  f1-score   support\n",
      "\n",
      "    negative       0.90      0.55      0.69       170\n",
      "     neutral       0.90      0.61      0.73       120\n",
      "    positive       0.88      0.99      0.93       826\n",
      "\n",
      "    accuracy                           0.88      1116\n",
      "   macro avg       0.89      0.72      0.78      1116\n",
      "weighted avg       0.89      0.88      0.87      1116\n",
      "\n",
      "The predicted sentiment for the new review is: positive\n"
     ]
    },
    {
     "data": {
      "text/plain": [
       "'movie fantastic loved every part'"
      ]
     },
     "execution_count": 51,
     "metadata": {},
     "output_type": "execute_result"
    }
   ],
   "source": [
    "# Use 'vader_sentiment' as the target variable for training and testing\n",
    "X = Avengers_reviews['content_cleaned']\n",
    "y = Avengers_reviews['sentiment_class_vader']\n",
    "\n",
    "# Split the data\n",
    "X_train, X_test, y_train_vader, y_test_vader = train_test_split(X, y, test_size=0.2, random_state=42)\n",
    "print(\"X_train shape:\", X_train.shape)\n",
    "print(\"X_test shape:\", X_test.shape)\n",
    "print(\"y_train_vader shape:\", y_train_vader.shape)\n",
    "print(\"y_test_vader shape:\", y_test_vader.shape)\n",
    "\n",
    "# Vectorization\n",
    "vectorizer = TfidfVectorizer(stop_words='english', max_features=5000)\n",
    "X_train_tfidf = vectorizer.fit_transform(X_train)\n",
    "X_test_tfidf = vectorizer.transform(X_test)\n",
    "\n",
    "# Train the model\n",
    "model = LogisticRegression(max_iter=1000)\n",
    "model.fit(X_train_tfidf, y_train_vader)\n",
    "\n",
    "# Predict on the test set\n",
    "y_pred_vader = model.predict(X_test_tfidf)\n",
    "\n",
    "# Evaluate the model\n",
    "accuracy_vader = accuracy_score(y_test_vader, y_pred_vader)\n",
    "\n",
    "# Detailed classification report\n",
    "print(classification_report(y_test_vader, y_pred_vader))\n",
    "\n",
    "# Example new review\n",
    "new_review = \"This movie was fantastic! I loved every part of it.\"\n",
    "\n",
    "# Preprocess the new review\n",
    "cleaned_review = clean(new_review)\n",
    "cleaned_review = add_cleaning(new_review)\n",
    "\n",
    "# Vectorize the preprocessed review using the fitted vectorizer\n",
    "new_review_tfidf = vectorizer.transform([cleaned_review])\n",
    "\n",
    "# Predict the sentiment using the trained model\n",
    "predicted_sentiment = model.predict(new_review_tfidf)\n",
    "\n",
    "# Output the predicted sentiment\n",
    "print(f\"The predicted sentiment for the new review is: {predicted_sentiment[0]}\")\n",
    "cleaned_review"
   ]
  },
  {
   "cell_type": "code",
   "execution_count": 52,
   "id": "81ba9473-5fa9-4e92-b56a-b54fc8ebf83f",
   "metadata": {},
   "outputs": [
    {
     "name": "stdout",
     "output_type": "stream",
     "text": [
      "Comparison of VADER and TextBlob Sentiment Analysis:\n",
      "VADER Accuracy: 0.8835\n",
      "TextBlob Accuracy: 0.8808\n"
     ]
    }
   ],
   "source": [
    "print(\"Comparison of VADER and TextBlob Sentiment Analysis:\")\n",
    "print(f\"VADER Accuracy: {accuracy_vader:.4f}\")\n",
    "print(f\"TextBlob Accuracy: {accuracy_TB:.4f}\")"
   ]
  },
  {
   "cell_type": "code",
   "execution_count": 55,
   "id": "84af3442-6a52-4643-ac9f-7536c22554b5",
   "metadata": {},
   "outputs": [
    {
     "data": {
      "image/png": "[encoded data removed]",
      "text/plain": [
       "<Figure size 800x500 with 1 Axes>"
      ]
     },
     "metadata": {},
     "output_type": "display_data"
    },
    {
     "data": {
      "image/png": "[encoded data removed]",
      "text/plain": [
       "<Figure size 1800x600 with 3 Axes>"
      ]
     },
     "metadata": {},
     "output_type": "display_data"
    }
   ],
   "source": [
    "# Plotting the accuracy comparison\n",
    "accuracy_data = pd.DataFrame({\n",
    "    'Sentiment Analyzer': ['VADER', 'TextBlob'],\n",
    "    'Accuracy': [accuracy_vader, accuracy_TB]\n",
    "})\n",
    "\n",
    "plt.figure(figsize=(8, 5))\n",
    "sns.barplot(x='Sentiment Analyzer', y='Accuracy', data=accuracy_data, palette='Blues_d')\n",
    "plt.title('Accuracy Comparison: VADER vs TextBlob')\n",
    "plt.ylabel('Accuracy')\n",
    "plt.xlabel('Sentiment Analyzer')\n",
    "plt.ylim(0, 1)\n",
    "plt.show()\n",
    "\n",
    "# Plotting the classification report for VADER\n",
    "vader_report = classification_report(y_test_vader, y_pred_vader, output_dict=True)\n",
    "vader_report_df = pd.DataFrame(vader_report).transpose()\n",
    "\n",
    "# Plotting the classification report for TextBlob\n",
    "textblob_report = classification_report(y_test_TB, y_pred_TB, output_dict=True)\n",
    "textblob_report_df = pd.DataFrame(textblob_report).transpose()\n",
    "\n",
    "# Combined bar plots for precision, recall, and f1-score\n",
    "fig, axes = plt.subplots(1, 3, figsize=(18, 6))\n",
    "sns.barplot(x=vader_report_df.index[:-3], y=vader_report_df['precision'][:-3], ax=axes[0], palette='Blues_d')\n",
    "sns.barplot(x=textblob_report_df.index[:-3], y=textblob_report_df['precision'][:-3], ax=axes[0], palette='Greens_d')\n",
    "axes[0].set_title('Precision Comparison')\n",
    "axes[0].set_ylabel('Precision')\n",
    "axes[0].set_xlabel('Class')\n",
    "axes[0].legend(['VADER', 'TextBlob'])\n",
    "\n",
    "sns.barplot(x=vader_report_df.index[:-3], y=vader_report_df['recall'][:-3], ax=axes[1], palette='Blues_d')\n",
    "sns.barplot(x=textblob_report_df.index[:-3], y=textblob_report_df['recall'][:-3], ax=axes[1], palette='Greens_d')\n",
    "axes[1].set_title('Recall Comparison')\n",
    "axes[1].set_ylabel('Recall')\n",
    "axes[1].set_xlabel('Class')\n",
    "axes[1].legend(['VADER', 'TextBlob'])\n",
    "\n",
    "sns.barplot(x=vader_report_df.index[:-3], y=vader_report_df['f1-score'][:-3], ax=axes[2], palette='Blues_d')\n",
    "sns.barplot(x=textblob_report_df.index[:-3], y=textblob_report_df['f1-score'][:-3], ax=axes[2], palette='Greens_d')\n",
    "axes[2].set_title('F1-Score Comparison')\n",
    "axes[2].set_ylabel('F1-Score')\n",
    "axes[2].set_xlabel('Class')\n",
    "axes[2].legend(['VADER', 'TextBlob'])\n",
    "\n",
    "plt.tight_layout()\n",
    "plt.show()\n"
   ]
  },
  {
   "cell_type": "code",
   "execution_count": null,
   "id": "ee732347-6998-4f68-a787-7298052a81a3",
   "metadata": {},
   "outputs": [],
   "source": []
  }
 ],
 "metadata": {
  "kernelspec": {
   "display_name": "Python 3 (ipykernel)",
   "language": "python",
   "name": "python3"
  },
  "language_info": {
   "codemirror_mode": {
    "name": "ipython",
    "version": 3
   },
   "file_extension": ".py",
   "mimetype": "text/x-python",
   "name": "python",
   "nbconvert_exporter": "python",
   "pygments_lexer": "ipython3",
   "version": "3.11.7"
  }
 },
 "nbformat": 4,
 "nbformat_minor": 5
}
